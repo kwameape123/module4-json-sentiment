{
 "cells": [
  {
   "cell_type": "markdown",
   "metadata": {},
   "source": [
    "# Web Mining and Applied NLP (44-620)\n",
    "\n",
    "## Requests, JSON, and NLP\n",
    "\n",
    "### Student Name:Arnold Atchoe.\n",
    "\n",
    "Perform the tasks described in the Markdown cells below.  When you have completed the assignment make sure your code cells have all been run (and have output beneath them) and ensure you have committed and pushed ALL of your changes to your assignment repository.\n",
    "\n",
    "Make sure you have [installed spaCy and its pipeline](https://spacy.io/usage#quickstart) and [spaCyTextBlob](https://spacy.io/universe/project/spacy-textblob)\n",
    "\n",
    "Every question that requires you to write code will have a code cell underneath it; you may either write your entire solution in that cell or write it in a python file (`.py`), then import and run the appropriate code to answer the question.\n",
    "\n",
    "This assignment requires that you write additional files (either JSON or pickle files); make sure to submit those files in your repository as well."
   ]
  },
  {
   "cell_type": "markdown",
   "metadata": {},
   "source": [
    "### Question 1: Get Song Lyrics"
   ]
  },
  {
   "cell_type": "markdown",
   "metadata": {},
   "source": [
    "The following code accesses the [lyrics.ovh](https://lyricsovh.docs.apiary.io/#reference/0/lyrics-of-a-song/search) public api, searches for the lyrics of a song, and stores it in a dictionary object.  Write the resulting json to a file (either a JSON file or a pickle file; you choose). You will read in the contents of this file for future questions so we do not need to frequently access the API."
   ]
  },
  {
   "cell_type": "code",
   "execution_count": 13,
   "metadata": {},
   "outputs": [
    {
     "name": "stdout",
     "output_type": "stream",
     "text": [
      "Searching for \"Birdhouse in your soul\" by They Might Be Giants...\n",
      "Done.\n",
      "64 ContributorsBirdhouse in Your Soul LyricsLike Many TMBG songs the direct meaning can be debated. This one seems to be one of the more simple cases however. This is a song about a night-light, from the night-light’s point of view.[Bridge]\n",
      "I'm your only friend\n",
      "I'm not your only friend\n",
      "But I'm a little glowing friend\n",
      "But really I'm not actually your friend\n",
      "But I am\n",
      "\n",
      "[Chorus]\n",
      "Blue canary in the outlet by the light switch\n",
      "Who watches over you\n",
      "Make a little birdhouse in your soul\n",
      "Not to put too fine a point on it\n",
      "Say I'm the only bee in your bonnet\n",
      "Make a little birdhouse in your soul\n",
      "\n",
      "[Verse 1]\n",
      "I have a secret to tell\n",
      "From my electrical well\n",
      "It's a simple message and I'm\n",
      "Leaving out the whistles and bells\n",
      "So the room must listen to me\n",
      "Filibuster vigilantly\n",
      "My name is blue canary\n",
      "One note spelled l-i-t-e\n",
      "My story's infinite\n",
      "Like the Longines Symphonette\n",
      "It doesn't rest\n",
      "\n",
      "\n",
      "[Chorus]\n",
      "Blue canary in the outlet by the light switch\n",
      "Who watches over you\n",
      "Make a little birdhouse in your soul\n",
      "Not to put too fine a point on it\n",
      "Say I'm the only bee in your bonnet\n",
      "Make a little birdhouse in your soul\n",
      "\n",
      "[Bridge]\n",
      "I'm your only friend\n",
      "I'm not your only friend\n",
      "But I'm a little glowing friend\n",
      "But really I'm not actually your friend\n",
      "But I am\n",
      "\n",
      "[Verse 2]\n",
      "There's a picture opposite me\n",
      "Of my primitive ancestry\n",
      "Which stood on rocky shores\n",
      "And kept the beaches shipwreck-free\n",
      "Though I respect that a lot\n",
      "I'd be fired if that were my job\n",
      "After killing Jason off\n",
      "And countless screaming Argonauts\n",
      "Blue bird of friendliness\n",
      "Like guardian angels it's\n",
      "Always near\n",
      "\n",
      "\n",
      "[Chorus 2]\n",
      "Blue canary in the outlet by the light switch\n",
      "Who watches over you\n",
      "Make a little birdhouse in your soul\n",
      "Not to put too fine a point on it\n",
      "Say I'm the only bee in your bonnet\n",
      "Make a little birdhouse in your soul\n",
      "While you're at it\n",
      "Keep the nightlight on inside\n",
      "The birdhouse in your soul\n",
      "Not to put too fine a point on it\n",
      "Say I'm the only bee in your bonnet\n",
      "Make a little birdhouse in your soul\n",
      "While you're at it\n",
      "Keep the nightlight on inside\n",
      "The birdhouse in your soul\n",
      "(Blue canary in the outlet by the light switch\n",
      "Who watches over you\n",
      "Make a little birdhouse in your soul)\n",
      "Make a little birdhouse in your soul\n",
      "While you're at it\n",
      "Keep the nightlight on inside\n",
      "The birdhouse in your soul\n",
      "Not to put too fine a point on it\n",
      "Say I'm the only bee in your bonnet\n",
      "Make a little birdhouse in your soul\n",
      "Wrote lyrics_theymightbegiants_birdhouseinyoursoul.json.\n"
     ]
    },
    {
     "name": "stderr",
     "output_type": "stream",
     "text": [
      "c:\\Users\\kwame\\Documents\\web_mining\\module4-json-sentiment\\venv\\Lib\\site-packages\\lyricsgenius\\genius.py:468: FutureWarning: The constructor signature will change in a future version. It will change to Song(lyrics, body) instead of Song(client, json_dict, lyrics).\n",
      "  song = Song(self, song_info, lyrics)\n"
     ]
    }
   ],
   "source": [
    "# import dependencies\n",
    "import lyricsgenius\n",
    "# This script uses the lyricsgenius library to fetch and print the lyrics of a song by They Might Be Giants.\n",
    "# Make sure to install the lyricsgenius library first using pip\n",
    "genius = lyricsgenius.Genius('e-lDH-OS8NPZuQ0nx-Y4EvU31u2VYfcahFIRPOKtW5aVTppkmn321dOljj1l_RTu')\n",
    "song = genius.search_song(\"Birdhouse in your soul\", \"They Might Be Giants\")\n",
    "print(song.lyrics)\n",
    "# Save the lyrics to a file\n",
    "song.save_lyrics()"
   ]
  },
  {
   "cell_type": "markdown",
   "metadata": {},
   "source": [
    "### Question 2: Sentiment Analysis"
   ]
  },
  {
   "cell_type": "markdown",
   "metadata": {},
   "source": [
    " Read in the contents of your file.  Print the lyrics of the song (not the entire dictionary!) and use spaCyTextBlob to perform sentiment analysis on the lyrics.  Print the polarity score of the sentiment analysis.  Given that the range of the polarity score is `[-1.0,1.0]` which corresponds to how positive or negative the text in question is, do you think the lyrics have a more positive or negative connotaion?  Answer this question in a comment in your code cell."
   ]
  },
  {
   "cell_type": "code",
   "execution_count": 18,
   "metadata": {},
   "outputs": [
    {
     "name": "stdout",
     "output_type": "stream",
     "text": [
      "64 ContributorsBirdhouse in Your Soul LyricsLike Many TMBG songs the direct meaning can be debated. This one seems to be one of the more simple cases however. This is a song about a night-light, from the night-light’s point of view.[Bridge]\n",
      "I'm your only friend\n",
      "I'm not your only friend\n",
      "But I'm a little glowing friend\n",
      "But really I'm not actually your friend\n",
      "But I am\n",
      "\n",
      "[Chorus]\n",
      "Blue canary in the outlet by the light switch\n",
      "Who watches over you\n",
      "Make a little birdhouse in your soul\n",
      "Not to put too fine a point on it\n",
      "Say I'm the only bee in your bonnet\n",
      "Make a little birdhouse in your soul\n",
      "\n",
      "[Verse 1]\n",
      "I have a secret to tell\n",
      "From my electrical well\n",
      "It's a simple message and I'm\n",
      "Leaving out the whistles and bells\n",
      "So the room must listen to me\n",
      "Filibuster vigilantly\n",
      "My name is blue canary\n",
      "One note spelled l-i-t-e\n",
      "My story's infinite\n",
      "Like the Longines Symphonette\n",
      "It doesn't rest\n",
      "\n",
      "\n",
      "[Chorus]\n",
      "Blue canary in the outlet by the light switch\n",
      "Who watches over you\n",
      "Make a little birdhouse in your soul\n",
      "Not to put too fine a point on it\n",
      "Say I'm the only bee in your bonnet\n",
      "Make a little birdhouse in your soul\n",
      "\n",
      "[Bridge]\n",
      "I'm your only friend\n",
      "I'm not your only friend\n",
      "But I'm a little glowing friend\n",
      "But really I'm not actually your friend\n",
      "But I am\n",
      "\n",
      "[Verse 2]\n",
      "There's a picture opposite me\n",
      "Of my primitive ancestry\n",
      "Which stood on rocky shores\n",
      "And kept the beaches shipwreck-free\n",
      "Though I respect that a lot\n",
      "I'd be fired if that were my job\n",
      "After killing Jason off\n",
      "And countless screaming Argonauts\n",
      "Blue bird of friendliness\n",
      "Like guardian angels it's\n",
      "Always near\n",
      "\n",
      "\n",
      "[Chorus 2]\n",
      "Blue canary in the outlet by the light switch\n",
      "Who watches over you\n",
      "Make a little birdhouse in your soul\n",
      "Not to put too fine a point on it\n",
      "Say I'm the only bee in your bonnet\n",
      "Make a little birdhouse in your soul\n",
      "While you're at it\n",
      "Keep the nightlight on inside\n",
      "The birdhouse in your soul\n",
      "Not to put too fine a point on it\n",
      "Say I'm the only bee in your bonnet\n",
      "Make a little birdhouse in your soul\n",
      "While you're at it\n",
      "Keep the nightlight on inside\n",
      "The birdhouse in your soul\n",
      "(Blue canary in the outlet by the light switch\n",
      "Who watches over you\n",
      "Make a little birdhouse in your soul)\n",
      "Make a little birdhouse in your soul\n",
      "While you're at it\n",
      "Keep the nightlight on inside\n",
      "The birdhouse in your soul\n",
      "Not to put too fine a point on it\n",
      "Say I'm the only bee in your bonnet\n",
      "Make a little birdhouse in your soul\n",
      "Polarity is 0.0475177304964539\n"
     ]
    }
   ],
   "source": [
    "# import dependencies\n",
    "# Make sure to install all required packages before running this script\n",
    "import spacy\n",
    "import json\n",
    "from spacytextblob.spacytextblob import SpacyTextBlob\n",
    "\n",
    "# Open the JSON file and read the lyrics\n",
    "with open(\"lyrics_theymightbegiants_birdhouseinyoursoul.json\",\"r\") as result_file:\n",
    "    contents=json.load(result_file)\n",
    "lyrics=contents[\"lyrics\"]\n",
    "# Print the lyrics from the JSON file\n",
    "print(lyrics)\n",
    "\n",
    "# Load the Spacy model and add the SpacyTextBlob component to perform sentiment analysis\n",
    "nlp=spacy.load(\"en_core_web_sm\")\n",
    "nlp.add_pipe(\"spacytextblob\")\n",
    "analysis=nlp(lyrics)\n",
    "polarity_score = analysis._.blob.polarity\n",
    "print(f\"Polarity is {polarity_score}\")"
   ]
  },
  {
   "cell_type": "markdown",
   "metadata": {},
   "source": [
    "#### Polarity Comment\n",
    "The lyrics printed and analyzed above has a slighly Positive Connotation with a polarity score a little above 0."
   ]
  },
  {
   "cell_type": "markdown",
   "metadata": {},
   "source": [
    "3. Write a function that takes an artist, song, and filename, accesses the lyrics.ovh api to get the song lyrics, and writes the results to the specified filename.  Test this function by getting the lyrics to any four songs of your choice and storing them in different files."
   ]
  },
  {
   "cell_type": "code",
   "execution_count": null,
   "metadata": {},
   "outputs": [],
   "source": []
  },
  {
   "cell_type": "markdown",
   "metadata": {},
   "source": [
    "4. Write a function that takes the name of a file that contains song lyrics, loads the file, performs sentiment analysis, and returns the polarity score.  Use this function to print the polarity scores (with the name of the song) of the three files you created in question 3.  Does the reported polarity match your understanding of the song's lyrics? Why or why not do you think that might be?  Answer the questions in either a comment in the code cell or a markdown cell under the code cell."
   ]
  },
  {
   "cell_type": "code",
   "execution_count": null,
   "metadata": {},
   "outputs": [],
   "source": []
  }
 ],
 "metadata": {
  "kernelspec": {
   "display_name": "venv",
   "language": "python",
   "name": "python3"
  },
  "language_info": {
   "codemirror_mode": {
    "name": "ipython",
    "version": 3
   },
   "file_extension": ".py",
   "mimetype": "text/x-python",
   "name": "python",
   "nbconvert_exporter": "python",
   "pygments_lexer": "ipython3",
   "version": "3.13.5"
  }
 },
 "nbformat": 4,
 "nbformat_minor": 4
}
